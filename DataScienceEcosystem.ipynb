{
  "metadata": {
    "kernelspec": {
      "name": "python",
      "display_name": "Python (Pyodide)",
      "language": "python"
    },
    "language_info": {
      "codemirror_mode": {
        "name": "python",
        "version": 3
      },
      "file_extension": ".py",
      "mimetype": "text/x-python",
      "name": "python",
      "nbconvert_exporter": "python",
      "pygments_lexer": "ipython3",
      "version": "3.8"
    }
  },
  "nbformat_minor": 5,
  "nbformat": 4,
  "cells": [
    {
      "id": "ac6b0502-f8e5-480d-8238-29f8c68f5095",
      "cell_type": "markdown",
      "source": "# Data Science Tools and Ecosystem\nIn this notebook, Data Science Tools and Ecosystem are summarized.",
      "metadata": {}
    },
    {
      "id": "4048c171-cf66-4038-aa2b-c613ee51238e",
      "cell_type": "markdown",
      "source": "**Objectives:**\n\n- List popular languages for Data Science  \n- List commonly used libraries for Data Science  \n- Perform arithmetic operations in Python  ",
      "metadata": {}
    },
    {
      "id": "e3614f36-2799-4207-8f1a-4a5c28948929",
      "cell_type": "markdown",
      "source": "Some of the popular languages that Data Scientists use are:\n\n1. Python  \n2. R  \n3. SQL  \n4. Julia  \n5. Scala",
      "metadata": {}
    },
    {
      "id": "10ec0634-6df7-40c6-82dc-93e325a0c0d2",
      "cell_type": "markdown",
      "source": "Some of the commonly used libraries used by Data Scientists include:\n\n1. NumPy  \n2. Pandas  \n3. Matplotlib  ",
      "metadata": {}
    },
    {
      "id": "3a88b4ae-a895-4370-83ed-36e9d6acec83",
      "cell_type": "markdown",
      "source": "| Data Science Tools          |\n|-----------------------------|\n| Jupyter Notebook            |\n| RStudio                     |\n| Apache Zeppelin             |\n",
      "metadata": {}
    },
    {
      "id": "7b331c73-3e31-4192-b42f-b00476a892fb",
      "cell_type": "markdown",
      "source": "### This a simple arithmetic expression to multiply then add integers\n",
      "metadata": {}
    },
    {
      "id": "85160dd7-3fbb-4510-9739-9d524bf62990",
      "cell_type": "code",
      "source": "# This a simple arithmetic expression to multiply then add integers\n(3*4)+5",
      "metadata": {
        "trusted": true
      },
      "outputs": [
        {
          "execution_count": 3,
          "output_type": "execute_result",
          "data": {
            "text/plain": "17"
          },
          "metadata": {}
        }
      ],
      "execution_count": 3
    },
    {
      "id": "b65a29e0-f720-4fce-b417-639a82edce96",
      "cell_type": "code",
      "source": "# This will convert 200 minutes to hours by dividing by 60\n200 / 60",
      "metadata": {
        "trusted": true
      },
      "outputs": [
        {
          "execution_count": 4,
          "output_type": "execute_result",
          "data": {
            "text/plain": "3.3333333333333335"
          },
          "metadata": {}
        }
      ],
      "execution_count": 4
    },
    {
      "id": "3ffba161-4642-4efe-a1e5-4302e9e08649",
      "cell_type": "markdown",
      "source": "## Author\nJhouvann S. Morden",
      "metadata": {}
    },
    {
      "id": "372fbd6d-be5c-469d-ab2f-934c2a51b5f0",
      "cell_type": "code",
      "source": "",
      "metadata": {
        "trusted": true
      },
      "outputs": [],
      "execution_count": null
    }
  ]
}